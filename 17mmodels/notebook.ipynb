{
 "cells": [
  {
   "cell_type": "code",
   "execution_count": 1,
   "metadata": {
    "ExecuteTime": {
     "end_time": "2023-01-20T00:25:15.127589Z",
     "start_time": "2023-01-20T00:25:14.296314Z"
    }
   },
   "outputs": [],
   "source": [
    "import glob\n",
    "import numpy\n",
    "import pandas\n",
    "import seaborn\n",
    "import matplotlib.pyplot as plt\n",
    "from tqdm import tqdm"
   ]
  },
  {
   "cell_type": "code",
   "execution_count": 2,
   "metadata": {
    "ExecuteTime": {
     "end_time": "2023-01-20T00:25:15.143127Z",
     "start_time": "2023-01-20T00:25:15.128980Z"
    }
   },
   "outputs": [
    {
     "data": {
      "text/html": [
       "<style>.container { width:95% !important; }</style>"
      ],
      "text/plain": [
       "<IPython.core.display.HTML object>"
      ]
     },
     "metadata": {},
     "output_type": "display_data"
    }
   ],
   "source": [
    "from IPython.display import display, HTML, Math, Markdown\n",
    "display(HTML(\"<style>.container { width:95% !important; }</style>\"))\n",
    "\n",
    "%load_ext autoreload\n",
    "%autoreload 2"
   ]
  },
  {
   "cell_type": "code",
   "execution_count": 3,
   "metadata": {
    "ExecuteTime": {
     "end_time": "2023-01-20T00:25:17.664461Z",
     "start_time": "2023-01-20T00:25:17.079788Z"
    }
   },
   "outputs": [],
   "source": [
    "import cobra"
   ]
  },
  {
   "cell_type": "code",
   "execution_count": 5,
   "metadata": {
    "ExecuteTime": {
     "end_time": "2023-01-20T00:25:47.965219Z",
     "start_time": "2023-01-20T00:25:46.736088Z"
    }
   },
   "outputs": [
    {
     "name": "stdout",
     "output_type": "stream",
     "text": [
      "Set parameter Username\n",
      "Academic license - for non-commercial use only - expires 2023-12-09\n"
     ]
    },
    {
     "data": {
      "text/html": [
       "<strong><em>Optimal</em> solution with objective value 0.404</strong><br><div>\n",
       "<style scoped>\n",
       "    .dataframe tbody tr th:only-of-type {\n",
       "        vertical-align: middle;\n",
       "    }\n",
       "\n",
       "    .dataframe tbody tr th {\n",
       "        vertical-align: top;\n",
       "    }\n",
       "\n",
       "    .dataframe thead th {\n",
       "        text-align: right;\n",
       "    }\n",
       "</style>\n",
       "<table border=\"1\" class=\"dataframe\">\n",
       "  <thead>\n",
       "    <tr style=\"text-align: right;\">\n",
       "      <th></th>\n",
       "      <th>fluxes</th>\n",
       "      <th>reduced_costs</th>\n",
       "    </tr>\n",
       "  </thead>\n",
       "  <tbody>\n",
       "    <tr>\n",
       "      <th>2S6HCCi</th>\n",
       "      <td>0.0</td>\n",
       "      <td>-1.665335e-16</td>\n",
       "    </tr>\n",
       "    <tr>\n",
       "      <th>3AMBAt2</th>\n",
       "      <td>0.0</td>\n",
       "      <td>0.000000e+00</td>\n",
       "    </tr>\n",
       "    <tr>\n",
       "      <th>AB6PGH</th>\n",
       "      <td>0.0</td>\n",
       "      <td>-1.387779e-17</td>\n",
       "    </tr>\n",
       "    <tr>\n",
       "      <th>ABTA</th>\n",
       "      <td>0.0</td>\n",
       "      <td>1.387779e-17</td>\n",
       "    </tr>\n",
       "    <tr>\n",
       "      <th>ABUTD</th>\n",
       "      <td>0.0</td>\n",
       "      <td>1.110223e-16</td>\n",
       "    </tr>\n",
       "    <tr>\n",
       "      <th>...</th>\n",
       "      <td>...</td>\n",
       "      <td>...</td>\n",
       "    </tr>\n",
       "    <tr>\n",
       "      <th>AMPEP1</th>\n",
       "      <td>0.0</td>\n",
       "      <td>0.000000e+00</td>\n",
       "    </tr>\n",
       "    <tr>\n",
       "      <th>DIPEPabc8</th>\n",
       "      <td>0.0</td>\n",
       "      <td>0.000000e+00</td>\n",
       "    </tr>\n",
       "    <tr>\n",
       "      <th>AMPEP14</th>\n",
       "      <td>0.0</td>\n",
       "      <td>-0.000000e+00</td>\n",
       "    </tr>\n",
       "    <tr>\n",
       "      <th>DIPEPabc12</th>\n",
       "      <td>0.0</td>\n",
       "      <td>0.000000e+00</td>\n",
       "    </tr>\n",
       "    <tr>\n",
       "      <th>METt3</th>\n",
       "      <td>0.0</td>\n",
       "      <td>-3.366102e-01</td>\n",
       "    </tr>\n",
       "  </tbody>\n",
       "</table>\n",
       "<p>2002 rows × 2 columns</p>\n",
       "</div>"
      ],
      "text/plain": [
       "<Solution 0.404 at 0x7f0990a76890>"
      ]
     },
     "execution_count": 5,
     "metadata": {},
     "output_type": "execute_result"
    }
   ],
   "source": [
    "model = cobra.io.load_json_model('Arthrobacter_OAP107.json')\n",
    "model.optimize()"
   ]
  },
  {
   "cell_type": "code",
   "execution_count": 10,
   "metadata": {
    "ExecuteTime": {
     "end_time": "2023-01-20T00:42:04.436906Z",
     "start_time": "2023-01-20T00:42:04.423880Z"
    }
   },
   "outputs": [],
   "source": [
    "extra = []\n",
    "for gene in model.genes:\n",
    "    if 'MDNCIGFF' in gene.id:\n",
    "        pass\n",
    "    else:\n",
    "        extra.append(gene)"
   ]
  },
  {
   "cell_type": "code",
   "execution_count": 11,
   "metadata": {
    "ExecuteTime": {
     "end_time": "2023-01-20T00:42:11.141547Z",
     "start_time": "2023-01-20T00:42:11.128240Z"
    }
   },
   "outputs": [
    {
     "data": {
      "text/plain": [
       "204"
      ]
     },
     "execution_count": 11,
     "metadata": {},
     "output_type": "execute_result"
    }
   ],
   "source": [
    "len(extra)"
   ]
  },
  {
   "cell_type": "code",
   "execution_count": 12,
   "metadata": {
    "ExecuteTime": {
     "end_time": "2023-01-20T00:42:26.543825Z",
     "start_time": "2023-01-20T00:42:26.528977Z"
    }
   },
   "outputs": [
    {
     "data": {
      "text/plain": [
       "[<Gene BSU15530 at 0x7f0990f9cdc0>,\n",
       " <Gene BSU36840 at 0x7f0990f9de40>,\n",
       " <Gene BSU36870 at 0x7f0990f9dea0>,\n",
       " <Gene BSU36800 at 0x7f0990f9df00>,\n",
       " <Gene BSU36850 at 0x7f0990f9df30>,\n",
       " <Gene BSU36880 at 0x7f0990f9df90>,\n",
       " <Gene BSU36860 at 0x7f0990f9dfc0>,\n",
       " <Gene BSU10520 at 0x7f0990f9e050>,\n",
       " <Gene BSU22760 at 0x7f0990f9e0b0>,\n",
       " <Gene BSU30830 at 0x7f0990f9e110>,\n",
       " <Gene BSU31990 at 0x7f0990f9e140>,\n",
       " <Gene BSU22870 at 0x7f0990f9e170>,\n",
       " <Gene BSU26710 at 0x7f0990f9e200>,\n",
       " <Gene BSU26700 at 0x7f0990f9e230>,\n",
       " <Gene BSU29600 at 0x7f0990f9e260>,\n",
       " <Gene BSU26690 at 0x7f0990f9e290>,\n",
       " <Gene BSU38510 at 0x7f0990f9e2c0>,\n",
       " <Gene BSU38530 at 0x7f0990f9e2f0>,\n",
       " <Gene BSU38520 at 0x7f0990f9e320>,\n",
       " <Gene BG12900 at 0x7f0990f9e350>,\n",
       " <Gene BSU07840 at 0x7f0990f9e3e0>,\n",
       " <Gene BSU15550 at 0x7f0990f9e410>,\n",
       " <Gene BSU24090 at 0x7f0990f9e440>,\n",
       " <Gene BSU23500 at 0x7f0990f9e4a0>,\n",
       " <Gene BSU02290 at 0x7f0990f9e5f0>,\n",
       " <Gene BSU19630 at 0x7f0990f9e650>,\n",
       " <Gene BSU35720 at 0x7f0990f9e770>,\n",
       " <Gene BSU35710 at 0x7f0990f9e7a0>,\n",
       " <Gene BSU35760 at 0x7f0990f9e800>,\n",
       " <Gene BSU35730 at 0x7f0990f9e830>,\n",
       " <Gene BSU22070 at 0x7f0990f9e890>,\n",
       " <Gene PP_4758 at 0x7f0990f9e8f0>,\n",
       " <Gene PP_3600 at 0x7f0990f9e920>,\n",
       " <Gene PP_1710 at 0x7f0990f9e950>,\n",
       " <Gene ABAYE_RS04425 at 0x7f0990f9e980>,\n",
       " <Gene ABAYE_RS04415 at 0x7f0990f9e9b0>,\n",
       " <Gene ABAYE_RS04430 at 0x7f0990f9e9e0>,\n",
       " <Gene ABAYE_RS04420 at 0x7f0990f9ea10>,\n",
       " <Gene CD630_10770 at 0x7f0990f9ea40>,\n",
       " <Gene CD630_02880 at 0x7f0990f9ea70>,\n",
       " <Gene CD630_25680 at 0x7f0990f9eaa0>,\n",
       " <Gene CD630_30130 at 0x7f0990f9ead0>,\n",
       " <Gene CD630_04920 at 0x7f0990f9eb00>,\n",
       " <Gene CD630_32790 at 0x7f0990f9eb30>,\n",
       " <Gene CD630_04910 at 0x7f0990f9eb60>,\n",
       " <Gene CD630_02870 at 0x7f0990f9eb90>,\n",
       " <Gene CD630_32780 at 0x7f0990f9ebc0>,\n",
       " <Gene CD630_30140 at 0x7f0990f9ebf0>,\n",
       " <Gene CD630_25660 at 0x7f0990f9ec20>,\n",
       " <Gene CD630_02850 at 0x7f0990f9ec50>,\n",
       " <Gene CD630_32760 at 0x7f0990f9ec80>,\n",
       " <Gene CD630_30150 at 0x7f0990f9ecb0>,\n",
       " <Gene CD630_10760 at 0x7f0990f9ece0>,\n",
       " <Gene CD630_02860 at 0x7f0990f9ed10>,\n",
       " <Gene CD630_10780 at 0x7f0990f9ed40>,\n",
       " <Gene CD630_02890 at 0x7f0990f9ed70>,\n",
       " <Gene CD630_02840 at 0x7f0990f9eda0>,\n",
       " <Gene CD630_25670 at 0x7f0990f9edd0>,\n",
       " <Gene CD630_32770 at 0x7f0990f9ee00>,\n",
       " <Gene CD630_04940 at 0x7f0990f9ee30>,\n",
       " <Gene CD630_10740 at 0x7f0990f9ee60>,\n",
       " <Gene CD630_04930 at 0x7f0990f9ee90>,\n",
       " <Gene CD630_25490 at 0x7f0990f9eec0>,\n",
       " <Gene TM0307 at 0x7f0990f9eef0>,\n",
       " <Gene b2803 at 0x7f0990f9ef20>,\n",
       " <Gene b2801 at 0x7f0990f9ef50>,\n",
       " <Gene b0241 at 0x7f0990f9ef80>,\n",
       " <Gene b1377 at 0x7f0990f9efb0>,\n",
       " <Gene b2215 at 0x7f0990f9efe0>,\n",
       " <Gene b0929 at 0x7f0990f9f010>,\n",
       " <Gene BSU40060 at 0x7f0990f9f040>,\n",
       " <Gene TM1071 at 0x7f0990f9f070>,\n",
       " <Gene TM1072 at 0x7f0990f9f0a0>,\n",
       " <Gene TM1073 at 0x7f0990f9f0d0>,\n",
       " <Gene TM1192 at 0x7f0990f9f100>,\n",
       " <Gene b4120 at 0x7f0990f9f130>,\n",
       " <Gene b0343 at 0x7f0990f9f160>,\n",
       " <Gene ABAYE_RS16655 at 0x7f0990f9f190>,\n",
       " <Gene ABAYE_RS11115 at 0x7f0990f9f1c0>,\n",
       " <Gene b0383 at 0x7f0990f9f1f0>,\n",
       " <Gene b1002 at 0x7f0990f9f220>,\n",
       " <Gene b3666 at 0x7f0990f9f250>,\n",
       " <Gene USA300HOU_RS08170 at 0x7f0990f9f280>,\n",
       " <Gene BSU12950 at 0x7f0990f9f2b0>,\n",
       " <Gene BSU12960 at 0x7f0990f9f2e0>,\n",
       " <Gene BSU12940 at 0x7f0990f9f310>,\n",
       " <Gene BSU12930 at 0x7f0990f9f340>,\n",
       " <Gene TM0069 at 0x7f0990f9f370>,\n",
       " <Gene TM0064 at 0x7f0990f9f3a0>,\n",
       " <Gene b3488 at 0x7f0990f9f3d0>,\n",
       " <Gene PP_3601 at 0x7f0990f9f400>,\n",
       " <Gene USA300HOU_RS03930 at 0x7f0990f9f430>,\n",
       " <Gene PP_4190 at 0x7f0990f9f460>,\n",
       " <Gene PP_4193 at 0x7f0990f9f490>,\n",
       " <Gene PP_4191 at 0x7f0990f9f4c0>,\n",
       " <Gene PP_4192 at 0x7f0990f9f4f0>,\n",
       " <Gene PP_3124 at 0x7f0990f9f520>,\n",
       " <Gene b4197 at 0x7f0990f9f550>,\n",
       " <Gene b3582 at 0x7f0990f9f580>,\n",
       " <Gene b3903 at 0x7f0990f9f5b0>,\n",
       " <Gene b3907 at 0x7f0990f9f5e0>,\n",
       " <Gene CD630_08850 at 0x7f0990f9f610>,\n",
       " <Gene USA300HOU_RS05740 at 0x7f0990f9f640>,\n",
       " <Gene USA300HOU_RS05745 at 0x7f0990f9f670>,\n",
       " <Gene USA300HOU_RS05750 at 0x7f0990f9f6a0>,\n",
       " <Gene CD630_09940 at 0x7f0990f9f6d0>,\n",
       " <Gene PP_2675 at 0x7f0990f9f700>,\n",
       " <Gene PP_4257 at 0x7f0990f9f730>,\n",
       " <Gene PP_4258 at 0x7f0990f9f760>,\n",
       " <Gene PP_4251 at 0x7f0990f9f790>,\n",
       " <Gene PP_4255 at 0x7f0990f9f7c0>,\n",
       " <Gene PP_4256 at 0x7f0990f9f7f0>,\n",
       " <Gene PP_4250 at 0x7f0990f9f820>,\n",
       " <Gene PP_4253 at 0x7f0990f9f850>,\n",
       " <Gene PP_4252 at 0x7f0990f9f880>,\n",
       " <Gene PP_3466 at 0x7f0990f9f8b0>,\n",
       " <Gene PP_2676 at 0x7f0990f9f8e0>,\n",
       " <Gene PP_2673 at 0x7f0990f9f910>,\n",
       " <Gene PP_3278 at 0x7f0990f9f940>,\n",
       " <Gene PP_3276 at 0x7f0990f9f970>,\n",
       " <Gene PP_3275 at 0x7f0990f9f9a0>,\n",
       " <Gene PP_3274 at 0x7f0990f9f9d0>,\n",
       " <Gene PP_3277 at 0x7f0990f9fa00>,\n",
       " <Gene PP_3461 at 0x7f0990f9fa30>,\n",
       " <Gene PP_3460 at 0x7f0990f9fa60>,\n",
       " <Gene PP_3459 at 0x7f0990f9fa90>,\n",
       " <Gene PP_3462 at 0x7f0990f9fac0>,\n",
       " <Gene YLR070C at 0x7f0990f9faf0>,\n",
       " <Gene PP_0214 at 0x7f0990f9fb20>,\n",
       " <Gene PP_0158 at 0x7f0990f9fb50>,\n",
       " <Gene PP_0213 at 0x7f0990f9fb80>,\n",
       " <Gene PP_1137 at 0x7f0990f9fbb0>,\n",
       " <Gene PP_1138 at 0x7f0990f9fbe0>,\n",
       " <Gene PP_1140 at 0x7f0990f9fc10>,\n",
       " <Gene PP_1141 at 0x7f0990f9fc40>,\n",
       " <Gene PP_1139 at 0x7f0990f9fc70>,\n",
       " <Gene CD630_04690 at 0x7f0990f9fca0>,\n",
       " <Gene CD630_30970 at 0x7f0990f9fcd0>,\n",
       " <Gene CD630_08160 at 0x7f0990f9fd00>,\n",
       " <Gene PP_1379 at 0x7f0990f9fd30>,\n",
       " <Gene PP_1380 at 0x7f0990f9fd60>,\n",
       " <Gene PP_4655 at 0x7f0990f9fd90>,\n",
       " <Gene PP_4656 at 0x7f0990f9fdc0>,\n",
       " <Gene PP_1376 at 0x7f0990f9fdf0>,\n",
       " <Gene PP_3952 at 0x7f0990f9fe20>,\n",
       " <Gene PP_3951 at 0x7f0990f9fe50>,\n",
       " <Gene PP_3648 at 0x7f0990f9fe80>,\n",
       " <Gene PP_1381 at 0x7f0990f9feb0>,\n",
       " <Gene PP_3537 at 0x7f0990f9fee0>,\n",
       " <Gene PP_1383 at 0x7f0990f9ff10>,\n",
       " <Gene PP_2554 at 0x7f0990f9ff40>,\n",
       " <Gene PP_3570 at 0x7f0990f9ff70>,\n",
       " <Gene PP_2553 at 0x7f0990f9ffa0>,\n",
       " <Gene b3063 at 0x7f0990f9ffd0>,\n",
       " <Gene PP_5036 at 0x7f0990fc8040>,\n",
       " <Gene PP_5029 at 0x7f0990fc8070>,\n",
       " <Gene CD630_01120 at 0x7f0990fc80a0>,\n",
       " <Gene PP_4140 at 0x7f0990fc80d0>,\n",
       " <Gene ABAYE_RS08820 at 0x7f0990fc8100>,\n",
       " <Gene ABAYE_RS12205 at 0x7f0990fc8130>,\n",
       " <Gene ABAYE_RS03640 at 0x7f0990fc8160>,\n",
       " <Gene b1198 at 0x7f0990fc8190>,\n",
       " <Gene b2415 at 0x7f0990fc81c0>,\n",
       " <Gene b1200 at 0x7f0990fc81f0>,\n",
       " <Gene b1199 at 0x7f0990fc8220>,\n",
       " <Gene b2416 at 0x7f0990fc8250>,\n",
       " <Gene 1644_AT1 at 0x7f0990fc8280>,\n",
       " <Gene 26_AT1 at 0x7f0990fc82b0>,\n",
       " <Gene 4129_AT1 at 0x7f0990fc82e0>,\n",
       " <Gene 4128_AT1 at 0x7f0990fc8310>,\n",
       " <Gene 314_AT2 at 0x7f0990fc8340>,\n",
       " <Gene 314_AT1 at 0x7f0990fc8370>,\n",
       " <Gene PP_1705 at 0x7f0990fc83a0>,\n",
       " <Gene PP_1706 at 0x7f0990fc83d0>,\n",
       " <Gene ABAYE_RS08945 at 0x7f0990fc8400>,\n",
       " <Gene ABAYE_RS09235 at 0x7f0990fc8430>,\n",
       " <Gene ABAYE_RS09150 at 0x7f0990fc8460>,\n",
       " <Gene ABAYE_RS06195 at 0x7f0990fc8490>,\n",
       " <Gene PP_3433 at 0x7f0990fc84c0>,\n",
       " <Gene PP_4620 at 0x7f0990fc84f0>,\n",
       " <Gene PP_4621 at 0x7f0990fc8520>,\n",
       " <Gene PP_4619 at 0x7f0990fc8550>,\n",
       " <Gene PP_4434 at 0x7f0990fc8580>,\n",
       " <Gene PP_2246 at 0x7f0990fc85b0>,\n",
       " <Gene PP_5270 at 0x7f0990fc85e0>,\n",
       " <Gene PP_4863 at 0x7f0990fc8610>,\n",
       " <Gene PP_4865 at 0x7f0990fc8640>,\n",
       " <Gene PP_4866 at 0x7f0990fc8670>,\n",
       " <Gene PP_4867 at 0x7f0990fc86a0>,\n",
       " <Gene PP_4864 at 0x7f0990fc86d0>,\n",
       " <Gene ABAYE_RS11415 at 0x7f0990fc8700>,\n",
       " <Gene PP_3515 at 0x7f0990fc8730>,\n",
       " <Gene PP_3514 at 0x7f0990fc8760>,\n",
       " <Gene b3223 at 0x7f0990fc8790>,\n",
       " <Gene b1819 at 0x7f0990fc87c0>,\n",
       " <Gene b1818 at 0x7f0990fc87f0>,\n",
       " <Gene b1817 at 0x7f0990fc8820>,\n",
       " <Gene b1009 at 0x7f0990fc8850>,\n",
       " <Gene s0001 at 0x7f0990fc8880>,\n",
       " <Gene b1011 at 0x7f0990fc88b0>,\n",
       " <Gene b1010 at 0x7f0990fc88e0>,\n",
       " <Gene ABAYE_RS01170 at 0x7f0990fc8910>,\n",
       " <Gene ABAYE_RS11835 at 0x7f0990fc8940>,\n",
       " <Gene ABAYE_RS11590 at 0x7f0990fc8970>]"
      ]
     },
     "execution_count": 12,
     "metadata": {},
     "output_type": "execute_result"
    }
   ],
   "source": [
    "extra"
   ]
  }
 ],
 "metadata": {
  "kernelspec": {
   "display_name": "Python 3 (ipykernel)",
   "language": "python",
   "name": "python3"
  },
  "language_info": {
   "codemirror_mode": {
    "name": "ipython",
    "version": 3
   },
   "file_extension": ".py",
   "mimetype": "text/x-python",
   "name": "python",
   "nbconvert_exporter": "python",
   "pygments_lexer": "ipython3",
   "version": "3.10.6"
  }
 },
 "nbformat": 4,
 "nbformat_minor": 2
}
