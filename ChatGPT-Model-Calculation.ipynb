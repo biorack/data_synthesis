{
 "cells": [
  {
   "cell_type": "markdown",
   "id": "064d6587-9105-4028-b990-f54f2307c08f",
   "metadata": {},
   "source": [
    "### Model analysis\n",
    "\n",
    "As coded by ChatGPT"
   ]
  },
  {
   "cell_type": "code",
   "execution_count": 1,
   "id": "d4e6c214-d162-40ae-a5bd-9e3ad58533a5",
   "metadata": {},
   "outputs": [],
   "source": [
    "import cobra\n",
    "import pandas as pd\n",
    "import os\n",
    "import json\n",
    "\n",
    "# Load the uptake rates from the provided CSV file\n",
    "uptake_rates_file = \"datasets/Estimated_Uptake_Rates.csv\"\n",
    "uptake_rates = pd.read_csv(uptake_rates_file, index_col=\"label\")"
   ]
  },
  {
   "cell_type": "code",
   "execution_count": 2,
   "id": "7454e055-af2f-4f59-b884-62c9387c984c",
   "metadata": {},
   "outputs": [],
   "source": [
    "# Add repeated metabolites\n",
    "uptake_rates = uptake_rates.groupby(\"Metabolite ID\").sum()"
   ]
  },
  {
   "cell_type": "code",
   "execution_count": 3,
   "id": "bcbfb1d0-ce9c-4fb6-82d3-10420de03a7f",
   "metadata": {},
   "outputs": [],
   "source": [
    "# List of metabolic model files (Assumed JSON format)\n",
    "model_files = [\n",
    "    \"Marmoricola_OAE513.json\",\n",
    "    \"Mycobacterium_OAE908.json\",\n",
    "    \"Mucilaginibacter_OAE612.json\",\n",
    "    \"Arthrobacter_OAP107.json\",\n",
    "    \"Rhodococcus_OAS809.json\",\n",
    "    \"Bacillus_OAE603.json\",\n",
    "    \"Chitinophagaceae_OAS944.json\",\n",
    "    \"Methylobacterium_OAE515.json\",\n",
    "    \"Bradyrhizobium_OAE829.json\",\n",
    "    \"Chitinophaga_OAE865.json\",\n",
    "    \"Paenibacillus_OAE614.json\",\n",
    "    \"Lysobacter_OAE881.json\",\n",
    "    \"Bosea_OAE506.json\",\n",
    "    \"Rhizobium_OAE497.json\",\n",
    "    \"Burkholderia_OAS925.json\",\n",
    "    \"Variovorax_OAS795.json\",\n",
    "    \"Brevibacillus_OAP136.json\"\n",
    "]\n",
    "\n",
    "# Load models, apply uptake rates, and calculate individual flux distributions\n",
    "individual_flux_results = {}\n",
    "models = []\n",
    "for model_file in model_files:\n",
    "    model_file = \"17mmodels/\" + model_file\n",
    "    if os.path.exists(model_file):\n",
    "        model = cobra.io.load_json_model(model_file)\n",
    "        \n",
    "        # Apply uptake rates to exchange reactions\n",
    "        for met_id, row in uptake_rates.iterrows():\n",
    "            if not isinstance(met_id,str):\n",
    "                continue\n",
    "            rxn_id = \"EX_\" + met_id\n",
    "            if rxn_id in model.reactions:\n",
    "                model.reactions.get_by_id(rxn_id).lower_bound = -row[\"Uptake Rate\"]\n",
    "        \n",
    "        # Perform FBA for the individual model\n",
    "        solution = model.optimize()\n",
    "        \n",
    "        # Store results\n",
    "        individual_flux_results[model.id] = {\n",
    "            \"Reaction\": [rxn.id for rxn in model.reactions],\n",
    "            \"Flux\": [solution.fluxes[rxn.id] for rxn in model.reactions]\n",
    "        }\n",
    "        \n",
    "        models.append(model)\n",
    "    else:\n",
    "        print(f\"Warning: Model file {model_file} not found.\")"
   ]
  },
  {
   "cell_type": "code",
   "execution_count": 4,
   "id": "0a8d9744-331e-4854-a5be-b42dfa4fd78a",
   "metadata": {},
   "outputs": [],
   "source": [
    "# Save individual flux results\n",
    "for model_id, flux_data in individual_flux_results.items():\n",
    "    df = pd.DataFrame(flux_data)\n",
    "    df.to_csv(f\"modeling_datasets/fluxes-single/{model_id}_flux_results.csv\", index=False)"
   ]
  }
 ],
 "metadata": {
  "kernelspec": {
   "display_name": "restor",
   "language": "python",
   "name": "restor"
  },
  "language_info": {
   "codemirror_mode": {
    "name": "ipython",
    "version": 3
   },
   "file_extension": ".py",
   "mimetype": "text/x-python",
   "name": "python",
   "nbconvert_exporter": "python",
   "pygments_lexer": "ipython3",
   "version": "3.10.12"
  }
 },
 "nbformat": 4,
 "nbformat_minor": 5
}
